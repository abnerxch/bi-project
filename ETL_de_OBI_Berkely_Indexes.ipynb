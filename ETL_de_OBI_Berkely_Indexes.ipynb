{
  "nbformat": 4,
  "nbformat_minor": 0,
  "metadata": {
    "colab": {
      "name": "ETL de OBI Berkely Indexes.ipynb",
      "provenance": [],
      "collapsed_sections": [],
      "include_colab_link": true
    },
    "kernelspec": {
      "name": "python3",
      "display_name": "Python 3"
    },
    "language_info": {
      "name": "python"
    }
  },
  "cells": [
    {
      "cell_type": "markdown",
      "metadata": {
        "id": "view-in-github",
        "colab_type": "text"
      },
      "source": [
        "<a href=\"https://colab.research.google.com/github/abnerxch/bi-project/blob/main/ETL_de_OBI_Berkely_Indexes.ipynb\" target=\"_parent\"><img src=\"https://colab.research.google.com/assets/colab-badge.svg\" alt=\"Open In Colab\"/></a>"
      ]
    },
    {
      "cell_type": "markdown",
      "metadata": {
        "id": "ir4mX_AttAss"
      },
      "source": [
        "Adriana Mundo, Ábner Xocop y Fernanda González\n",
        "\n",
        "# Epidemiología social del SARS-CoV-2: Inclusiveness & Covid Performance indexes\n",
        "\n",
        "- The **Inclusiveness Index Report** is an annual publication that identifies and captures the degree of group-based inclusion and marginality experienced across the world and within the United States. It ranks states and countries on their levels of inclusivity using six measures: outgroup violence; political representation; income inequality; anti-discrimination laws; rates of incarceration; and immigration/asylum policies.\n",
        "- The institute created the **Covid Performance Index** to measure the performance of all 50 states and 172 countries primarily based on three factors: rates of infection, death, and testing.\n",
        "\n",
        "[Index Info](https://belonging.berkeley.edu/inclusivenessindex)"
      ]
    },
    {
      "cell_type": "markdown",
      "metadata": {
        "id": "m0KvBaRKtJxo"
      },
      "source": [
        "## Extract & Load"
      ]
    },
    {
      "cell_type": "code",
      "metadata": {
        "colab": {
          "base_uri": "https://localhost:8080/"
        },
        "id": "U-Wdq6xrr3kW",
        "outputId": "e9ee3b61-62ef-4079-8144-3611ad854d34"
      },
      "source": [
        "import pandas as pd\n",
        "from google.colab import drive\n",
        "drive.mount('/content/drive')"
      ],
      "execution_count": null,
      "outputs": [
        {
          "output_type": "stream",
          "text": [
            "Mounted at /content/drive\n"
          ],
          "name": "stdout"
        }
      ]
    },
    {
      "cell_type": "code",
      "metadata": {
        "colab": {
          "base_uri": "https://localhost:8080/",
          "height": 442
        },
        "id": "AOE99uUWs_l6",
        "outputId": "f188cd86-6932-49c0-e625-62b651d563ab"
      },
      "source": [
        "covid_index = pd.read_csv('https://gist.githubusercontent.com/armi3/b8d197a5470e3165a968c547da9e9bd5/raw/c8dd1f9a5bf7ffa968d418bfe0ecd3a76e4f8005/covid_index')\n",
        "covid_index.info()\n",
        "covid_index.head()"
      ],
      "execution_count": null,
      "outputs": [
        {
          "output_type": "stream",
          "text": [
            "<class 'pandas.core.frame.DataFrame'>\n",
            "RangeIndex: 50 entries, 0 to 49\n",
            "Data columns (total 7 columns):\n",
            " #   Column                     Non-Null Count  Dtype  \n",
            "---  ------                     --------------  -----  \n",
            " 0   State                      50 non-null     object \n",
            " 1   State Abbreviation         50 non-null     object \n",
            " 2   Cases per 100,000 people   50 non-null     float64\n",
            " 3   Deaths per 100,000 people  50 non-null     float64\n",
            " 4   Tests per 100,000 people   50 non-null     float64\n",
            " 5   Index ranking              50 non-null     int64  \n",
            " 6   COVID Index                50 non-null     float64\n",
            "dtypes: float64(4), int64(1), object(2)\n",
            "memory usage: 2.9+ KB\n"
          ],
          "name": "stdout"
        },
        {
          "output_type": "execute_result",
          "data": {
            "text/html": [
              "<div>\n",
              "<style scoped>\n",
              "    .dataframe tbody tr th:only-of-type {\n",
              "        vertical-align: middle;\n",
              "    }\n",
              "\n",
              "    .dataframe tbody tr th {\n",
              "        vertical-align: top;\n",
              "    }\n",
              "\n",
              "    .dataframe thead th {\n",
              "        text-align: right;\n",
              "    }\n",
              "</style>\n",
              "<table border=\"1\" class=\"dataframe\">\n",
              "  <thead>\n",
              "    <tr style=\"text-align: right;\">\n",
              "      <th></th>\n",
              "      <th>State</th>\n",
              "      <th>State Abbreviation</th>\n",
              "      <th>Cases per 100,000 people</th>\n",
              "      <th>Deaths per 100,000 people</th>\n",
              "      <th>Tests per 100,000 people</th>\n",
              "      <th>Index ranking</th>\n",
              "      <th>COVID Index</th>\n",
              "    </tr>\n",
              "  </thead>\n",
              "  <tbody>\n",
              "    <tr>\n",
              "      <th>0</th>\n",
              "      <td>Alabama</td>\n",
              "      <td>AL</td>\n",
              "      <td>7367.17</td>\n",
              "      <td>98.45</td>\n",
              "      <td>38220.05</td>\n",
              "      <td>42</td>\n",
              "      <td>-0.5387</td>\n",
              "    </tr>\n",
              "    <tr>\n",
              "      <th>1</th>\n",
              "      <td>Alaska</td>\n",
              "      <td>AK</td>\n",
              "      <td>6422.84</td>\n",
              "      <td>28.16</td>\n",
              "      <td>174391.19</td>\n",
              "      <td>2</td>\n",
              "      <td>1.3950</td>\n",
              "    </tr>\n",
              "    <tr>\n",
              "      <th>2</th>\n",
              "      <td>Arizona</td>\n",
              "      <td>AZ</td>\n",
              "      <td>7146.96</td>\n",
              "      <td>121.78</td>\n",
              "      <td>38945.76</td>\n",
              "      <td>47</td>\n",
              "      <td>-0.6663</td>\n",
              "    </tr>\n",
              "    <tr>\n",
              "      <th>3</th>\n",
              "      <td>Arkansas</td>\n",
              "      <td>AR</td>\n",
              "      <td>7460.33</td>\n",
              "      <td>121.81</td>\n",
              "      <td>67979.50</td>\n",
              "      <td>41</td>\n",
              "      <td>-0.4421</td>\n",
              "    </tr>\n",
              "    <tr>\n",
              "      <th>4</th>\n",
              "      <td>California</td>\n",
              "      <td>CA</td>\n",
              "      <td>5798.22</td>\n",
              "      <td>65.54</td>\n",
              "      <td>83152.70</td>\n",
              "      <td>10</td>\n",
              "      <td>0.3641</td>\n",
              "    </tr>\n",
              "  </tbody>\n",
              "</table>\n",
              "</div>"
            ],
            "text/plain": [
              "        State State Abbreviation  ...  Index ranking  COVID Index\n",
              "0     Alabama                 AL  ...             42      -0.5387\n",
              "1      Alaska                 AK  ...              2       1.3950\n",
              "2     Arizona                 AZ  ...             47      -0.6663\n",
              "3    Arkansas                 AR  ...             41      -0.4421\n",
              "4  California                 CA  ...             10       0.3641\n",
              "\n",
              "[5 rows x 7 columns]"
            ]
          },
          "metadata": {
            "tags": []
          },
          "execution_count": 2
        }
      ]
    },
    {
      "cell_type": "code",
      "metadata": {
        "colab": {
          "base_uri": "https://localhost:8080/",
          "height": 527
        },
        "id": "J4zAxY0DyLRI",
        "outputId": "5029b114-2e52-49e0-8515-b1df915830d0"
      },
      "source": [
        "inclusiveness_index = pd.read_csv('https://gist.githubusercontent.com/armi3/b8d197a5470e3165a968c547da9e9bd5/raw/c8dd1f9a5bf7ffa968d418bfe0ecd3a76e4f8005/inclusiveness_index')\n",
        "inclusiveness_index.info()\n",
        "inclusiveness_index.head()"
      ],
      "execution_count": null,
      "outputs": [
        {
          "output_type": "stream",
          "text": [
            "<class 'pandas.core.frame.DataFrame'>\n",
            "RangeIndex: 50 entries, 0 to 49\n",
            "Data columns (total 10 columns):\n",
            " #   Column                        Non-Null Count  Dtype  \n",
            "---  ------                        --------------  -----  \n",
            " 0   State name                    50 non-null     object \n",
            " 1   State abbreviation            50 non-null     object \n",
            " 2   Z-score (General Population)  50 non-null     float64\n",
            " 3   Z-score (Race)                50 non-null     float64\n",
            " 4   Z-score (Gender)              50 non-null     float64\n",
            " 5   Z-score (Sexual Orientation)  50 non-null     float64\n",
            " 6   Z-score (Religion)            50 non-null     float64\n",
            " 7   Z-score (Disability)          50 non-null     float64\n",
            " 8   Inclusiveness index           50 non-null     float64\n",
            " 9   Index categories 2020         50 non-null     object \n",
            "dtypes: float64(7), object(3)\n",
            "memory usage: 4.0+ KB\n"
          ],
          "name": "stdout"
        },
        {
          "output_type": "execute_result",
          "data": {
            "text/html": [
              "<div>\n",
              "<style scoped>\n",
              "    .dataframe tbody tr th:only-of-type {\n",
              "        vertical-align: middle;\n",
              "    }\n",
              "\n",
              "    .dataframe tbody tr th {\n",
              "        vertical-align: top;\n",
              "    }\n",
              "\n",
              "    .dataframe thead th {\n",
              "        text-align: right;\n",
              "    }\n",
              "</style>\n",
              "<table border=\"1\" class=\"dataframe\">\n",
              "  <thead>\n",
              "    <tr style=\"text-align: right;\">\n",
              "      <th></th>\n",
              "      <th>State name</th>\n",
              "      <th>State abbreviation</th>\n",
              "      <th>Z-score (General Population)</th>\n",
              "      <th>Z-score (Race)</th>\n",
              "      <th>Z-score (Gender)</th>\n",
              "      <th>Z-score (Sexual Orientation)</th>\n",
              "      <th>Z-score (Religion)</th>\n",
              "      <th>Z-score (Disability)</th>\n",
              "      <th>Inclusiveness index</th>\n",
              "      <th>Index categories 2020</th>\n",
              "    </tr>\n",
              "  </thead>\n",
              "  <tbody>\n",
              "    <tr>\n",
              "      <th>0</th>\n",
              "      <td>Alabama</td>\n",
              "      <td>AL</td>\n",
              "      <td>-0.4529</td>\n",
              "      <td>0.3858</td>\n",
              "      <td>-1.0399</td>\n",
              "      <td>-0.2715</td>\n",
              "      <td>-0.6712</td>\n",
              "      <td>0.6851</td>\n",
              "      <td>-0.2274</td>\n",
              "      <td>Medium-Low</td>\n",
              "    </tr>\n",
              "    <tr>\n",
              "      <th>1</th>\n",
              "      <td>Alaska</td>\n",
              "      <td>AK</td>\n",
              "      <td>0.2784</td>\n",
              "      <td>-0.3149</td>\n",
              "      <td>-0.1220</td>\n",
              "      <td>-0.6276</td>\n",
              "      <td>-0.0462</td>\n",
              "      <td>1.2082</td>\n",
              "      <td>0.0627</td>\n",
              "      <td>Medium-High</td>\n",
              "    </tr>\n",
              "    <tr>\n",
              "      <th>2</th>\n",
              "      <td>Arizona</td>\n",
              "      <td>AZ</td>\n",
              "      <td>-0.1366</td>\n",
              "      <td>-0.2010</td>\n",
              "      <td>0.1803</td>\n",
              "      <td>0.3089</td>\n",
              "      <td>-0.3146</td>\n",
              "      <td>0.5391</td>\n",
              "      <td>0.0627</td>\n",
              "      <td>Medium-High</td>\n",
              "    </tr>\n",
              "    <tr>\n",
              "      <th>3</th>\n",
              "      <td>Arkansas</td>\n",
              "      <td>AR</td>\n",
              "      <td>-0.4005</td>\n",
              "      <td>0.1952</td>\n",
              "      <td>-0.3820</td>\n",
              "      <td>-0.1401</td>\n",
              "      <td>-0.6712</td>\n",
              "      <td>0.5343</td>\n",
              "      <td>-0.1441</td>\n",
              "      <td>Medium-Low</td>\n",
              "    </tr>\n",
              "    <tr>\n",
              "      <th>4</th>\n",
              "      <td>California</td>\n",
              "      <td>CA</td>\n",
              "      <td>-0.3278</td>\n",
              "      <td>0.3073</td>\n",
              "      <td>0.2103</td>\n",
              "      <td>0.6491</td>\n",
              "      <td>0.3817</td>\n",
              "      <td>0.0481</td>\n",
              "      <td>0.2115</td>\n",
              "      <td>Medium-High</td>\n",
              "    </tr>\n",
              "  </tbody>\n",
              "</table>\n",
              "</div>"
            ],
            "text/plain": [
              "   State name State abbreviation  ...  Inclusiveness index  Index categories 2020\n",
              "0     Alabama                 AL  ...              -0.2274             Medium-Low\n",
              "1      Alaska                 AK  ...               0.0627            Medium-High\n",
              "2     Arizona                 AZ  ...               0.0627            Medium-High\n",
              "3    Arkansas                 AR  ...              -0.1441             Medium-Low\n",
              "4  California                 CA  ...               0.2115            Medium-High\n",
              "\n",
              "[5 rows x 10 columns]"
            ]
          },
          "metadata": {
            "tags": []
          },
          "execution_count": 3
        }
      ]
    },
    {
      "cell_type": "code",
      "metadata": {
        "id": "aBZgcpPtyiLd"
      },
      "source": [
        "inclusiveness_index.to_csv('/content/drive/My Drive/Documentos/2021 1/5. BI/Proyecto final/datasources/InclusivenessIndex.csv', index = False)\n",
        "covid_index.to_csv('/content/drive/My Drive/Documentos/2021 1/5. BI/Proyecto final/datasources/CovidIndex.csv', index = False)"
      ],
      "execution_count": null,
      "outputs": []
    }
  ]
}