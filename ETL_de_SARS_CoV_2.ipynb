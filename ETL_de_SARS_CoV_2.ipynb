{
  "nbformat": 4,
  "nbformat_minor": 0,
  "metadata": {
    "colab": {
      "name": "ETL de SARS-CoV-2.ipynb",
      "provenance": [],
      "collapsed_sections": [
        "-R2wrDujIwba"
      ],
      "include_colab_link": true
    },
    "kernelspec": {
      "display_name": "Python 3",
      "language": "python",
      "name": "python3"
    },
    "language_info": {
      "codemirror_mode": {
        "name": "ipython",
        "version": 3
      },
      "file_extension": ".py",
      "mimetype": "text/x-python",
      "name": "python",
      "nbconvert_exporter": "python",
      "pygments_lexer": "ipython3",
      "version": "3.7.6"
    }
  },
  "cells": [
    {
      "cell_type": "markdown",
      "metadata": {
        "id": "view-in-github",
        "colab_type": "text"
      },
      "source": [
        "<a href=\"https://colab.research.google.com/github/abnerxch/bi-project/blob/main/ETL_de_SARS_CoV_2.ipynb\" target=\"_parent\"><img src=\"https://colab.research.google.com/assets/colab-badge.svg\" alt=\"Open In Colab\"/></a>"
      ]
    },
    {
      "cell_type": "markdown",
      "metadata": {
        "id": "ETfKY9mHDCcQ"
      },
      "source": [
        "Adriana Mundo, Ábner Xocop y Fernanda González\n",
        "# Epidemiología social del SARS-CoV-2: ETL de casos"
      ]
    },
    {
      "cell_type": "markdown",
      "metadata": {
        "id": "DUCTW02u0XZb"
      },
      "source": [
        "## Prep env"
      ]
    },
    {
      "cell_type": "code",
      "metadata": {
        "id": "RVZstSMh0Y3m",
        "colab": {
          "base_uri": "https://localhost:8080/"
        },
        "outputId": "f777024c-b089-4578-cf47-4e347ed66d2d"
      },
      "source": [
        "import pandas as pd\n",
        "from datetime import date, datetime, timedelta \n",
        "import numpy as np\n",
        "from google.colab import drive\n",
        "drive.mount('/content/drive')"
      ],
      "execution_count": null,
      "outputs": [
        {
          "output_type": "stream",
          "text": [
            "Drive already mounted at /content/drive; to attempt to forcibly remount, call drive.mount(\"/content/drive\", force_remount=True).\n"
          ],
          "name": "stdout"
        }
      ]
    },
    {
      "cell_type": "markdown",
      "metadata": {
        "id": "5ewiFv4aBYpr"
      },
      "source": [
        "## Extract"
      ]
    },
    {
      "cell_type": "code",
      "metadata": {
        "id": "7tGBNcVWT9UR"
      },
      "source": [
        "# del 01/22/2020 a ayer\n",
        "dia_inicial = datetime(2020,1,22,0,0,0)\n",
        "yesterday = datetime.now() - timedelta(days=1)\n",
        "#dias_transcurridos = (datetime.now() - dia_inicial).days \n",
        "dias_transcurridos = (yesterday - dia_inicial).days \n",
        "\n",
        "df_raw = pd.DataFrame()\n",
        "date = dia_inicial\n",
        "urls = []"
      ],
      "execution_count": null,
      "outputs": []
    },
    {
      "cell_type": "code",
      "metadata": {
        "id": "XBPnTH5mDCcd",
        "colab": {
          "base_uri": "https://localhost:8080/",
          "height": 326
        },
        "outputId": "3d2b806d-4e76-4180-c26e-40dcfd6591b3"
      },
      "source": [
        "for i in range(0, dias_transcurridos):\n",
        "    url_str = 'https://raw.githubusercontent.com/CSSEGISandData/COVID-19/master/csse_covid_19_data/csse_covid_19_daily_reports/'\n",
        "    if date.month < 10:\n",
        "        url_str = url_str + '0' + str(date.month) + '-'\n",
        "    else:\n",
        "        url_str = url_str + str(date.month) + '-'\n",
        "    if date.day < 10:\n",
        "        url_str = url_str + '0' + str(date.day) + '-'\n",
        "    else:\n",
        "        url_str = url_str + str(date.day) + '-'\n",
        "    url_str = url_str + str(date.year) + '.csv'\n",
        "    urls.append(url_str)\n",
        "    df_dia = pd.read_csv(url_str).fillna(0)\n",
        "    df_raw = df_raw.append(df_dia, ignore_index = True)    \n",
        "    date += timedelta(days=1)\n",
        "    #print(date)\n",
        "\n",
        "df_raw.head()"
      ],
      "execution_count": null,
      "outputs": [
        {
          "output_type": "execute_result",
          "data": {
            "text/html": [
              "<div>\n",
              "<style scoped>\n",
              "    .dataframe tbody tr th:only-of-type {\n",
              "        vertical-align: middle;\n",
              "    }\n",
              "\n",
              "    .dataframe tbody tr th {\n",
              "        vertical-align: top;\n",
              "    }\n",
              "\n",
              "    .dataframe thead th {\n",
              "        text-align: right;\n",
              "    }\n",
              "</style>\n",
              "<table border=\"1\" class=\"dataframe\">\n",
              "  <thead>\n",
              "    <tr style=\"text-align: right;\">\n",
              "      <th></th>\n",
              "      <th>Province/State</th>\n",
              "      <th>Country/Region</th>\n",
              "      <th>Last Update</th>\n",
              "      <th>Confirmed</th>\n",
              "      <th>Deaths</th>\n",
              "      <th>Recovered</th>\n",
              "      <th>Latitude</th>\n",
              "      <th>Longitude</th>\n",
              "      <th>FIPS</th>\n",
              "      <th>Admin2</th>\n",
              "      <th>Province_State</th>\n",
              "      <th>Country_Region</th>\n",
              "      <th>Last_Update</th>\n",
              "      <th>Lat</th>\n",
              "      <th>Long_</th>\n",
              "      <th>Active</th>\n",
              "      <th>Combined_Key</th>\n",
              "      <th>Incidence_Rate</th>\n",
              "      <th>Case-Fatality_Ratio</th>\n",
              "      <th>Incident_Rate</th>\n",
              "      <th>Case_Fatality_Ratio</th>\n",
              "    </tr>\n",
              "  </thead>\n",
              "  <tbody>\n",
              "    <tr>\n",
              "      <th>0</th>\n",
              "      <td>Anhui</td>\n",
              "      <td>Mainland China</td>\n",
              "      <td>1/22/2020 17:00</td>\n",
              "      <td>1.0</td>\n",
              "      <td>0.0</td>\n",
              "      <td>0.0</td>\n",
              "      <td>NaN</td>\n",
              "      <td>NaN</td>\n",
              "      <td>NaN</td>\n",
              "      <td>NaN</td>\n",
              "      <td>NaN</td>\n",
              "      <td>NaN</td>\n",
              "      <td>NaN</td>\n",
              "      <td>NaN</td>\n",
              "      <td>NaN</td>\n",
              "      <td>NaN</td>\n",
              "      <td>NaN</td>\n",
              "      <td>NaN</td>\n",
              "      <td>NaN</td>\n",
              "      <td>NaN</td>\n",
              "      <td>NaN</td>\n",
              "    </tr>\n",
              "    <tr>\n",
              "      <th>1</th>\n",
              "      <td>Beijing</td>\n",
              "      <td>Mainland China</td>\n",
              "      <td>1/22/2020 17:00</td>\n",
              "      <td>14.0</td>\n",
              "      <td>0.0</td>\n",
              "      <td>0.0</td>\n",
              "      <td>NaN</td>\n",
              "      <td>NaN</td>\n",
              "      <td>NaN</td>\n",
              "      <td>NaN</td>\n",
              "      <td>NaN</td>\n",
              "      <td>NaN</td>\n",
              "      <td>NaN</td>\n",
              "      <td>NaN</td>\n",
              "      <td>NaN</td>\n",
              "      <td>NaN</td>\n",
              "      <td>NaN</td>\n",
              "      <td>NaN</td>\n",
              "      <td>NaN</td>\n",
              "      <td>NaN</td>\n",
              "      <td>NaN</td>\n",
              "    </tr>\n",
              "    <tr>\n",
              "      <th>2</th>\n",
              "      <td>Chongqing</td>\n",
              "      <td>Mainland China</td>\n",
              "      <td>1/22/2020 17:00</td>\n",
              "      <td>6.0</td>\n",
              "      <td>0.0</td>\n",
              "      <td>0.0</td>\n",
              "      <td>NaN</td>\n",
              "      <td>NaN</td>\n",
              "      <td>NaN</td>\n",
              "      <td>NaN</td>\n",
              "      <td>NaN</td>\n",
              "      <td>NaN</td>\n",
              "      <td>NaN</td>\n",
              "      <td>NaN</td>\n",
              "      <td>NaN</td>\n",
              "      <td>NaN</td>\n",
              "      <td>NaN</td>\n",
              "      <td>NaN</td>\n",
              "      <td>NaN</td>\n",
              "      <td>NaN</td>\n",
              "      <td>NaN</td>\n",
              "    </tr>\n",
              "    <tr>\n",
              "      <th>3</th>\n",
              "      <td>Fujian</td>\n",
              "      <td>Mainland China</td>\n",
              "      <td>1/22/2020 17:00</td>\n",
              "      <td>1.0</td>\n",
              "      <td>0.0</td>\n",
              "      <td>0.0</td>\n",
              "      <td>NaN</td>\n",
              "      <td>NaN</td>\n",
              "      <td>NaN</td>\n",
              "      <td>NaN</td>\n",
              "      <td>NaN</td>\n",
              "      <td>NaN</td>\n",
              "      <td>NaN</td>\n",
              "      <td>NaN</td>\n",
              "      <td>NaN</td>\n",
              "      <td>NaN</td>\n",
              "      <td>NaN</td>\n",
              "      <td>NaN</td>\n",
              "      <td>NaN</td>\n",
              "      <td>NaN</td>\n",
              "      <td>NaN</td>\n",
              "    </tr>\n",
              "    <tr>\n",
              "      <th>4</th>\n",
              "      <td>Gansu</td>\n",
              "      <td>Mainland China</td>\n",
              "      <td>1/22/2020 17:00</td>\n",
              "      <td>0.0</td>\n",
              "      <td>0.0</td>\n",
              "      <td>0.0</td>\n",
              "      <td>NaN</td>\n",
              "      <td>NaN</td>\n",
              "      <td>NaN</td>\n",
              "      <td>NaN</td>\n",
              "      <td>NaN</td>\n",
              "      <td>NaN</td>\n",
              "      <td>NaN</td>\n",
              "      <td>NaN</td>\n",
              "      <td>NaN</td>\n",
              "      <td>NaN</td>\n",
              "      <td>NaN</td>\n",
              "      <td>NaN</td>\n",
              "      <td>NaN</td>\n",
              "      <td>NaN</td>\n",
              "      <td>NaN</td>\n",
              "    </tr>\n",
              "  </tbody>\n",
              "</table>\n",
              "</div>"
            ],
            "text/plain": [
              "  Province/State  Country/Region  ... Incident_Rate  Case_Fatality_Ratio\n",
              "0          Anhui  Mainland China  ...           NaN                  NaN\n",
              "1        Beijing  Mainland China  ...           NaN                  NaN\n",
              "2      Chongqing  Mainland China  ...           NaN                  NaN\n",
              "3         Fujian  Mainland China  ...           NaN                  NaN\n",
              "4          Gansu  Mainland China  ...           NaN                  NaN\n",
              "\n",
              "[5 rows x 21 columns]"
            ]
          },
          "metadata": {
            "tags": []
          },
          "execution_count": 14
        }
      ]
    },
    {
      "cell_type": "code",
      "metadata": {
        "id": "R52UpSQXUUuY"
      },
      "source": [
        "df_raw.to_csv('/content/drive/My Drive/Documentos/2021 1/5. BI/Proyecto final/CovidRaw.csv', index = False)"
      ],
      "execution_count": null,
      "outputs": []
    },
    {
      "cell_type": "code",
      "metadata": {
        "id": "3r1H2oepVuY7"
      },
      "source": [
        "# alternative extract, faster!\n",
        "# df_raw = pd.read_csv('/content/drive/My Drive/Documentos/2021 1/5. BI/Proyecto final/CovidRaw.csv')"
      ],
      "execution_count": null,
      "outputs": []
    },
    {
      "cell_type": "markdown",
      "metadata": {
        "id": "n1lD_baDZVP4"
      },
      "source": [
        "## Transform"
      ]
    },
    {
      "cell_type": "markdown",
      "metadata": {
        "id": "-R2wrDujIwba"
      },
      "source": [
        "### Timeline of cases per State"
      ]
    },
    {
      "cell_type": "code",
      "metadata": {
        "colab": {
          "base_uri": "https://localhost:8080/"
        },
        "id": "AX8BLqeM-jXT",
        "outputId": "a6fb01e4-18b8-4b9a-c83e-e89cecef8295"
      },
      "source": [
        "df_raw.info()"
      ],
      "execution_count": null,
      "outputs": [
        {
          "output_type": "stream",
          "text": [
            "<class 'pandas.core.frame.DataFrame'>\n",
            "RangeIndex: 1609667 entries, 0 to 1609666\n",
            "Data columns (total 21 columns):\n",
            " #   Column               Non-Null Count    Dtype  \n",
            "---  ------               --------------    -----  \n",
            " 0   Province/State       7677 non-null     object \n",
            " 1   Country/Region       7677 non-null     object \n",
            " 2   Last Update          7677 non-null     object \n",
            " 3   Confirmed            1609667 non-null  float64\n",
            " 4   Deaths               1609667 non-null  float64\n",
            " 5   Recovered            1609667 non-null  float64\n",
            " 6   Latitude             4820 non-null     float64\n",
            " 7   Longitude            4820 non-null     float64\n",
            " 8   FIPS                 1601990 non-null  float64\n",
            " 9   Admin2               1601990 non-null  object \n",
            " 10  Province_State       1601990 non-null  object \n",
            " 11  Country_Region       1601990 non-null  object \n",
            " 12  Last_Update          1601990 non-null  object \n",
            " 13  Lat                  1601990 non-null  float64\n",
            " 14  Long_                1601990 non-null  float64\n",
            " 15  Active               1601990 non-null  float64\n",
            " 16  Combined_Key         1601990 non-null  object \n",
            " 17  Incidence_Rate       638327 non-null   float64\n",
            " 18  Case-Fatality_Ratio  638327 non-null   float64\n",
            " 19  Incident_Rate        748557 non-null   float64\n",
            " 20  Case_Fatality_Ratio  748557 non-null   object \n",
            "dtypes: float64(12), object(9)\n",
            "memory usage: 257.9+ MB\n"
          ],
          "name": "stdout"
        }
      ]
    },
    {
      "cell_type": "code",
      "metadata": {
        "id": "7o-9Fzg01RvP",
        "colab": {
          "base_uri": "https://localhost:8080/",
          "height": 640
        },
        "outputId": "0b539c90-9a5e-433e-d281-1f6578360d12"
      },
      "source": [
        "# filter US rows\n",
        "df_us = df_raw[(df_raw['Country_Region'] == 'US') | (df_raw['Country/Region'] == 'US')]\n",
        "\n",
        "# combine columns & drop useless\n",
        "df = pd.DataFrame()\n",
        "df['LastUpdate'] = df_us['Last Update'].fillna(df_us['Last_Update'])\n",
        "df['LastUpdate'] = pd.to_datetime(df['LastUpdate']).dt.date\n",
        "df['StateName'] = df_us['Province/State'].fillna(df_us['Province_State'])\n",
        "df['Confirmed'] = df_us['Confirmed']\n",
        "df['Deaths'] = df_us['Deaths']\n",
        "df['IncidenceRate'] = df_us['Incident_Rate'].fillna(df_us['Incidence_Rate'])\n",
        "df['CaseFatalityRatio'] = df_us['Case-Fatality_Ratio'].fillna(df_us['Case_Fatality_Ratio'])\n",
        "df.info()\n",
        "df.head(-10)"
      ],
      "execution_count": null,
      "outputs": [
        {
          "output_type": "stream",
          "text": [
            "<class 'pandas.core.frame.DataFrame'>\n",
            "Int64Index: 1340356 entries, 31 to 1609612\n",
            "Data columns (total 6 columns):\n",
            " #   Column             Non-Null Count    Dtype  \n",
            "---  ------             --------------    -----  \n",
            " 0   LastUpdate         1340356 non-null  object \n",
            " 1   StateName          1340356 non-null  object \n",
            " 2   Confirmed          1340356 non-null  float64\n",
            " 3   Deaths             1340356 non-null  float64\n",
            " 4   IncidenceRate      1143216 non-null  float64\n",
            " 5   CaseFatalityRatio  1143216 non-null  object \n",
            "dtypes: float64(3), object(3)\n",
            "memory usage: 71.6+ MB\n"
          ],
          "name": "stdout"
        },
        {
          "output_type": "execute_result",
          "data": {
            "text/html": [
              "<div>\n",
              "<style scoped>\n",
              "    .dataframe tbody tr th:only-of-type {\n",
              "        vertical-align: middle;\n",
              "    }\n",
              "\n",
              "    .dataframe tbody tr th {\n",
              "        vertical-align: top;\n",
              "    }\n",
              "\n",
              "    .dataframe thead th {\n",
              "        text-align: right;\n",
              "    }\n",
              "</style>\n",
              "<table border=\"1\" class=\"dataframe\">\n",
              "  <thead>\n",
              "    <tr style=\"text-align: right;\">\n",
              "      <th></th>\n",
              "      <th>LastUpdate</th>\n",
              "      <th>StateName</th>\n",
              "      <th>Confirmed</th>\n",
              "      <th>Deaths</th>\n",
              "      <th>IncidenceRate</th>\n",
              "      <th>CaseFatalityRatio</th>\n",
              "    </tr>\n",
              "  </thead>\n",
              "  <tbody>\n",
              "    <tr>\n",
              "      <th>31</th>\n",
              "      <td>2020-01-22</td>\n",
              "      <td>Washington</td>\n",
              "      <td>1.0</td>\n",
              "      <td>0.0</td>\n",
              "      <td>NaN</td>\n",
              "      <td>NaN</td>\n",
              "    </tr>\n",
              "    <tr>\n",
              "      <th>70</th>\n",
              "      <td>2020-01-23</td>\n",
              "      <td>Washington</td>\n",
              "      <td>1.0</td>\n",
              "      <td>0.0</td>\n",
              "      <td>NaN</td>\n",
              "      <td>NaN</td>\n",
              "    </tr>\n",
              "    <tr>\n",
              "      <th>119</th>\n",
              "      <td>2020-01-24</td>\n",
              "      <td>Washington</td>\n",
              "      <td>1.0</td>\n",
              "      <td>0.0</td>\n",
              "      <td>NaN</td>\n",
              "      <td>NaN</td>\n",
              "    </tr>\n",
              "    <tr>\n",
              "      <th>120</th>\n",
              "      <td>2020-01-24</td>\n",
              "      <td>Chicago</td>\n",
              "      <td>1.0</td>\n",
              "      <td>0.0</td>\n",
              "      <td>NaN</td>\n",
              "      <td>NaN</td>\n",
              "    </tr>\n",
              "    <tr>\n",
              "      <th>161</th>\n",
              "      <td>2020-01-25</td>\n",
              "      <td>Washington</td>\n",
              "      <td>1.0</td>\n",
              "      <td>0.0</td>\n",
              "      <td>NaN</td>\n",
              "      <td>NaN</td>\n",
              "    </tr>\n",
              "    <tr>\n",
              "      <th>...</th>\n",
              "      <td>...</td>\n",
              "      <td>...</td>\n",
              "      <td>...</td>\n",
              "      <td>...</td>\n",
              "      <td>...</td>\n",
              "      <td>...</td>\n",
              "    </tr>\n",
              "    <tr>\n",
              "      <th>1609598</th>\n",
              "      <td>2021-05-16</td>\n",
              "      <td>Wyoming</td>\n",
              "      <td>718.0</td>\n",
              "      <td>10.0</td>\n",
              "      <td>8502.072232</td>\n",
              "      <td>1.39276</td>\n",
              "    </tr>\n",
              "    <tr>\n",
              "      <th>1609599</th>\n",
              "      <td>2021-05-16</td>\n",
              "      <td>Wyoming</td>\n",
              "      <td>9212.0</td>\n",
              "      <td>114.0</td>\n",
              "      <td>9258.291457</td>\n",
              "      <td>1.23752</td>\n",
              "    </tr>\n",
              "    <tr>\n",
              "      <th>1609600</th>\n",
              "      <td>2021-05-16</td>\n",
              "      <td>Wyoming</td>\n",
              "      <td>1412.0</td>\n",
              "      <td>12.0</td>\n",
              "      <td>7120.524458</td>\n",
              "      <td>0.849858</td>\n",
              "    </tr>\n",
              "    <tr>\n",
              "      <th>1609601</th>\n",
              "      <td>2021-05-16</td>\n",
              "      <td>Wyoming</td>\n",
              "      <td>8039.0</td>\n",
              "      <td>136.0</td>\n",
              "      <td>10066.618247</td>\n",
              "      <td>1.69175</td>\n",
              "    </tr>\n",
              "    <tr>\n",
              "      <th>1609602</th>\n",
              "      <td>2021-05-16</td>\n",
              "      <td>Wyoming</td>\n",
              "      <td>161.0</td>\n",
              "      <td>2.0</td>\n",
              "      <td>6833.616299</td>\n",
              "      <td>1.24224</td>\n",
              "    </tr>\n",
              "  </tbody>\n",
              "</table>\n",
              "<p>1340346 rows × 6 columns</p>\n",
              "</div>"
            ],
            "text/plain": [
              "         LastUpdate   StateName  ...  IncidenceRate  CaseFatalityRatio\n",
              "31       2020-01-22  Washington  ...            NaN                NaN\n",
              "70       2020-01-23  Washington  ...            NaN                NaN\n",
              "119      2020-01-24  Washington  ...            NaN                NaN\n",
              "120      2020-01-24     Chicago  ...            NaN                NaN\n",
              "161      2020-01-25  Washington  ...            NaN                NaN\n",
              "...             ...         ...  ...            ...                ...\n",
              "1609598  2021-05-16     Wyoming  ...    8502.072232            1.39276\n",
              "1609599  2021-05-16     Wyoming  ...    9258.291457            1.23752\n",
              "1609600  2021-05-16     Wyoming  ...    7120.524458           0.849858\n",
              "1609601  2021-05-16     Wyoming  ...   10066.618247            1.69175\n",
              "1609602  2021-05-16     Wyoming  ...    6833.616299            1.24224\n",
              "\n",
              "[1340346 rows x 6 columns]"
            ]
          },
          "metadata": {
            "tags": []
          },
          "execution_count": 17
        }
      ]
    },
    {
      "cell_type": "code",
      "metadata": {
        "colab": {
          "base_uri": "https://localhost:8080/"
        },
        "id": "kmhzw7byCk_t",
        "outputId": "b3e2f596-88bf-4ffb-979a-7807df98334d"
      },
      "source": [
        "us_state_abbrev = {\n",
        "    'Alabama': 'AL',\n",
        "    'Alaska': 'AK',\n",
        "    'American Samoa': 'AS',\n",
        "    'Arizona': 'AZ',\n",
        "    'Arkansas': 'AR',\n",
        "    'California': 'CA',\n",
        "    'Colorado': 'CO',\n",
        "    'Connecticut': 'CT',\n",
        "    'Delaware': 'DE',\n",
        "    'District of Columbia': 'DC',\n",
        "    'Florida': 'FL',\n",
        "    'Georgia': 'GA',\n",
        "    'Guam': 'GU',\n",
        "    'Hawaii': 'HI',\n",
        "    'Idaho': 'ID',\n",
        "    'Illinois': 'IL',\n",
        "    'Indiana': 'IN',\n",
        "    'Iowa': 'IA',\n",
        "    'Kansas': 'KS',\n",
        "    'Kentucky': 'KY',\n",
        "    'Louisiana': 'LA',\n",
        "    'Maine': 'ME',\n",
        "    'Maryland': 'MD',\n",
        "    'Massachusetts': 'MA',\n",
        "    'Michigan': 'MI',\n",
        "    'Minnesota': 'MN',\n",
        "    'Mississippi': 'MS',\n",
        "    'Missouri': 'MO',\n",
        "    'Montana': 'MT',\n",
        "    'Nebraska': 'NE',\n",
        "    'Nevada': 'NV',\n",
        "    'New Hampshire': 'NH',\n",
        "    'New Jersey': 'NJ',\n",
        "    'New Mexico': 'NM',\n",
        "    'New York': 'NY',\n",
        "    'North Carolina': 'NC',\n",
        "    'North Dakota': 'ND',\n",
        "    'Northern Mariana Islands':'MP',\n",
        "    'Ohio': 'OH',\n",
        "    'Oklahoma': 'OK',\n",
        "    'Oregon': 'OR',\n",
        "    'Palau': 'PW',\n",
        "    'Pennsylvania': 'PA',\n",
        "    'Puerto Rico': 'PR',\n",
        "    'Rhode Island': 'RI',\n",
        "    'South Carolina': 'SC',\n",
        "    'South Dakota': 'SD',\n",
        "    'Tennessee': 'TN',\n",
        "    'Texas': 'TX',\n",
        "    'Utah': 'UT',\n",
        "    'Vermont': 'VT',\n",
        "    'Virgin Islands': 'VI',\n",
        "    'United States Virgin Islands': 'VI',\n",
        "    'Virginia': 'VA',\n",
        "    'Washington': 'WA',\n",
        "    'West Virginia': 'WV',\n",
        "    'Wisconsin': 'WI',\n",
        "    'Wyoming': 'WY'\n",
        "}\n",
        "\n",
        "df['State'] = df['StateName'].map(us_state_abbrev)\n",
        "df.info()\n",
        "df.head()"
      ],
      "execution_count": null,
      "outputs": [
        {
          "output_type": "stream",
          "text": [
            "<class 'pandas.core.frame.DataFrame'>\n",
            "Int64Index: 1340356 entries, 31 to 1609612\n",
            "Data columns (total 7 columns):\n",
            " #   Column             Non-Null Count    Dtype  \n",
            "---  ------             --------------    -----  \n",
            " 0   LastUpdate         1340356 non-null  object \n",
            " 1   StateName          1340356 non-null  object \n",
            " 2   Confirmed          1340356 non-null  float64\n",
            " 3   Deaths             1340356 non-null  float64\n",
            " 4   IncidenceRate      1143216 non-null  float64\n",
            " 5   CaseFatalityRatio  1143216 non-null  object \n",
            " 6   State              1338197 non-null  object \n",
            "dtypes: float64(3), object(4)\n",
            "memory usage: 81.8+ MB\n"
          ],
          "name": "stdout"
        },
        {
          "output_type": "execute_result",
          "data": {
            "text/html": [
              "<div>\n",
              "<style scoped>\n",
              "    .dataframe tbody tr th:only-of-type {\n",
              "        vertical-align: middle;\n",
              "    }\n",
              "\n",
              "    .dataframe tbody tr th {\n",
              "        vertical-align: top;\n",
              "    }\n",
              "\n",
              "    .dataframe thead th {\n",
              "        text-align: right;\n",
              "    }\n",
              "</style>\n",
              "<table border=\"1\" class=\"dataframe\">\n",
              "  <thead>\n",
              "    <tr style=\"text-align: right;\">\n",
              "      <th></th>\n",
              "      <th>LastUpdate</th>\n",
              "      <th>StateName</th>\n",
              "      <th>Confirmed</th>\n",
              "      <th>Deaths</th>\n",
              "      <th>IncidenceRate</th>\n",
              "      <th>CaseFatalityRatio</th>\n",
              "      <th>State</th>\n",
              "    </tr>\n",
              "  </thead>\n",
              "  <tbody>\n",
              "    <tr>\n",
              "      <th>31</th>\n",
              "      <td>2020-01-22</td>\n",
              "      <td>Washington</td>\n",
              "      <td>1.0</td>\n",
              "      <td>0.0</td>\n",
              "      <td>NaN</td>\n",
              "      <td>NaN</td>\n",
              "      <td>WA</td>\n",
              "    </tr>\n",
              "    <tr>\n",
              "      <th>70</th>\n",
              "      <td>2020-01-23</td>\n",
              "      <td>Washington</td>\n",
              "      <td>1.0</td>\n",
              "      <td>0.0</td>\n",
              "      <td>NaN</td>\n",
              "      <td>NaN</td>\n",
              "      <td>WA</td>\n",
              "    </tr>\n",
              "    <tr>\n",
              "      <th>119</th>\n",
              "      <td>2020-01-24</td>\n",
              "      <td>Washington</td>\n",
              "      <td>1.0</td>\n",
              "      <td>0.0</td>\n",
              "      <td>NaN</td>\n",
              "      <td>NaN</td>\n",
              "      <td>WA</td>\n",
              "    </tr>\n",
              "    <tr>\n",
              "      <th>120</th>\n",
              "      <td>2020-01-24</td>\n",
              "      <td>Chicago</td>\n",
              "      <td>1.0</td>\n",
              "      <td>0.0</td>\n",
              "      <td>NaN</td>\n",
              "      <td>NaN</td>\n",
              "      <td>NaN</td>\n",
              "    </tr>\n",
              "    <tr>\n",
              "      <th>161</th>\n",
              "      <td>2020-01-25</td>\n",
              "      <td>Washington</td>\n",
              "      <td>1.0</td>\n",
              "      <td>0.0</td>\n",
              "      <td>NaN</td>\n",
              "      <td>NaN</td>\n",
              "      <td>WA</td>\n",
              "    </tr>\n",
              "  </tbody>\n",
              "</table>\n",
              "</div>"
            ],
            "text/plain": [
              "     LastUpdate   StateName  Confirmed  ...  IncidenceRate  CaseFatalityRatio State\n",
              "31   2020-01-22  Washington        1.0  ...            NaN                NaN    WA\n",
              "70   2020-01-23  Washington        1.0  ...            NaN                NaN    WA\n",
              "119  2020-01-24  Washington        1.0  ...            NaN                NaN    WA\n",
              "120  2020-01-24     Chicago        1.0  ...            NaN                NaN   NaN\n",
              "161  2020-01-25  Washington        1.0  ...            NaN                NaN    WA\n",
              "\n",
              "[5 rows x 7 columns]"
            ]
          },
          "metadata": {
            "tags": []
          },
          "execution_count": 18
        }
      ]
    },
    {
      "cell_type": "code",
      "metadata": {
        "colab": {
          "base_uri": "https://localhost:8080/"
        },
        "id": "1cmc9BvWFS4z",
        "outputId": "166b4527-8b30-4673-eea0-39338d215601"
      },
      "source": [
        "df = df[df['State'].notna()]\n",
        "df.info()\n",
        "df.head()"
      ],
      "execution_count": null,
      "outputs": [
        {
          "output_type": "stream",
          "text": [
            "<class 'pandas.core.frame.DataFrame'>\n",
            "Int64Index: 1338197 entries, 31 to 1609612\n",
            "Data columns (total 7 columns):\n",
            " #   Column             Non-Null Count    Dtype  \n",
            "---  ------             --------------    -----  \n",
            " 0   LastUpdate         1338197 non-null  object \n",
            " 1   StateName          1338197 non-null  object \n",
            " 2   Confirmed          1338197 non-null  float64\n",
            " 3   Deaths             1338197 non-null  float64\n",
            " 4   IncidenceRate      1142160 non-null  float64\n",
            " 5   CaseFatalityRatio  1142160 non-null  object \n",
            " 6   State              1338197 non-null  object \n",
            "dtypes: float64(3), object(4)\n",
            "memory usage: 81.7+ MB\n"
          ],
          "name": "stdout"
        },
        {
          "output_type": "execute_result",
          "data": {
            "text/html": [
              "<div>\n",
              "<style scoped>\n",
              "    .dataframe tbody tr th:only-of-type {\n",
              "        vertical-align: middle;\n",
              "    }\n",
              "\n",
              "    .dataframe tbody tr th {\n",
              "        vertical-align: top;\n",
              "    }\n",
              "\n",
              "    .dataframe thead th {\n",
              "        text-align: right;\n",
              "    }\n",
              "</style>\n",
              "<table border=\"1\" class=\"dataframe\">\n",
              "  <thead>\n",
              "    <tr style=\"text-align: right;\">\n",
              "      <th></th>\n",
              "      <th>LastUpdate</th>\n",
              "      <th>StateName</th>\n",
              "      <th>Confirmed</th>\n",
              "      <th>Deaths</th>\n",
              "      <th>IncidenceRate</th>\n",
              "      <th>CaseFatalityRatio</th>\n",
              "      <th>State</th>\n",
              "    </tr>\n",
              "  </thead>\n",
              "  <tbody>\n",
              "    <tr>\n",
              "      <th>31</th>\n",
              "      <td>2020-01-22</td>\n",
              "      <td>Washington</td>\n",
              "      <td>1.0</td>\n",
              "      <td>0.0</td>\n",
              "      <td>NaN</td>\n",
              "      <td>NaN</td>\n",
              "      <td>WA</td>\n",
              "    </tr>\n",
              "    <tr>\n",
              "      <th>70</th>\n",
              "      <td>2020-01-23</td>\n",
              "      <td>Washington</td>\n",
              "      <td>1.0</td>\n",
              "      <td>0.0</td>\n",
              "      <td>NaN</td>\n",
              "      <td>NaN</td>\n",
              "      <td>WA</td>\n",
              "    </tr>\n",
              "    <tr>\n",
              "      <th>119</th>\n",
              "      <td>2020-01-24</td>\n",
              "      <td>Washington</td>\n",
              "      <td>1.0</td>\n",
              "      <td>0.0</td>\n",
              "      <td>NaN</td>\n",
              "      <td>NaN</td>\n",
              "      <td>WA</td>\n",
              "    </tr>\n",
              "    <tr>\n",
              "      <th>161</th>\n",
              "      <td>2020-01-25</td>\n",
              "      <td>Washington</td>\n",
              "      <td>1.0</td>\n",
              "      <td>0.0</td>\n",
              "      <td>NaN</td>\n",
              "      <td>NaN</td>\n",
              "      <td>WA</td>\n",
              "    </tr>\n",
              "    <tr>\n",
              "      <th>162</th>\n",
              "      <td>2020-01-25</td>\n",
              "      <td>Illinois</td>\n",
              "      <td>1.0</td>\n",
              "      <td>0.0</td>\n",
              "      <td>NaN</td>\n",
              "      <td>NaN</td>\n",
              "      <td>IL</td>\n",
              "    </tr>\n",
              "  </tbody>\n",
              "</table>\n",
              "</div>"
            ],
            "text/plain": [
              "     LastUpdate   StateName  Confirmed  ...  IncidenceRate  CaseFatalityRatio State\n",
              "31   2020-01-22  Washington        1.0  ...            NaN                NaN    WA\n",
              "70   2020-01-23  Washington        1.0  ...            NaN                NaN    WA\n",
              "119  2020-01-24  Washington        1.0  ...            NaN                NaN    WA\n",
              "161  2020-01-25  Washington        1.0  ...            NaN                NaN    WA\n",
              "162  2020-01-25    Illinois        1.0  ...            NaN                NaN    IL\n",
              "\n",
              "[5 rows x 7 columns]"
            ]
          },
          "metadata": {
            "tags": []
          },
          "execution_count": 19
        }
      ]
    },
    {
      "cell_type": "code",
      "metadata": {
        "colab": {
          "base_uri": "https://localhost:8080/"
        },
        "id": "tVHBgENjGWWA",
        "outputId": "425a1ee0-3b44-4687-94a7-a9f21ce2f92e"
      },
      "source": [
        "df = df[['LastUpdate', 'State', 'Confirmed', 'Deaths', 'IncidenceRate', 'CaseFatalityRatio']]\n",
        "df['CaseFatalityRatio'] = pd.to_numeric(df['CaseFatalityRatio'])\n",
        "df_timeline = df.groupby(['LastUpdate', 'State'], as_index=False).agg(\n",
        "    {\n",
        "         'Confirmed': 'sum',\n",
        "         'Deaths': 'sum',\n",
        "         'IncidenceRate': 'mean',\n",
        "         'CaseFatalityRatio': 'mean'\n",
        "    }\n",
        ")\n",
        "df_timeline.info()\n",
        "df_timeline.head(-8)"
      ],
      "execution_count": null,
      "outputs": [
        {
          "output_type": "stream",
          "text": [
            "<class 'pandas.core.frame.DataFrame'>\n",
            "Int64Index: 23652 entries, 0 to 23651\n",
            "Data columns (total 6 columns):\n",
            " #   Column             Non-Null Count  Dtype  \n",
            "---  ------             --------------  -----  \n",
            " 0   LastUpdate         23652 non-null  object \n",
            " 1   State              23652 non-null  object \n",
            " 2   Confirmed          23652 non-null  float64\n",
            " 3   Deaths             23652 non-null  float64\n",
            " 4   IncidenceRate      19360 non-null  float64\n",
            " 5   CaseFatalityRatio  19360 non-null  float64\n",
            "dtypes: float64(4), object(2)\n",
            "memory usage: 1.3+ MB\n"
          ],
          "name": "stdout"
        },
        {
          "output_type": "execute_result",
          "data": {
            "text/html": [
              "<div>\n",
              "<style scoped>\n",
              "    .dataframe tbody tr th:only-of-type {\n",
              "        vertical-align: middle;\n",
              "    }\n",
              "\n",
              "    .dataframe tbody tr th {\n",
              "        vertical-align: top;\n",
              "    }\n",
              "\n",
              "    .dataframe thead th {\n",
              "        text-align: right;\n",
              "    }\n",
              "</style>\n",
              "<table border=\"1\" class=\"dataframe\">\n",
              "  <thead>\n",
              "    <tr style=\"text-align: right;\">\n",
              "      <th></th>\n",
              "      <th>LastUpdate</th>\n",
              "      <th>State</th>\n",
              "      <th>Confirmed</th>\n",
              "      <th>Deaths</th>\n",
              "      <th>IncidenceRate</th>\n",
              "      <th>CaseFatalityRatio</th>\n",
              "    </tr>\n",
              "  </thead>\n",
              "  <tbody>\n",
              "    <tr>\n",
              "      <th>0</th>\n",
              "      <td>2020-01-22</td>\n",
              "      <td>WA</td>\n",
              "      <td>1.0</td>\n",
              "      <td>0.0</td>\n",
              "      <td>NaN</td>\n",
              "      <td>NaN</td>\n",
              "    </tr>\n",
              "    <tr>\n",
              "      <th>1</th>\n",
              "      <td>2020-01-23</td>\n",
              "      <td>WA</td>\n",
              "      <td>1.0</td>\n",
              "      <td>0.0</td>\n",
              "      <td>NaN</td>\n",
              "      <td>NaN</td>\n",
              "    </tr>\n",
              "    <tr>\n",
              "      <th>2</th>\n",
              "      <td>2020-01-24</td>\n",
              "      <td>WA</td>\n",
              "      <td>1.0</td>\n",
              "      <td>0.0</td>\n",
              "      <td>NaN</td>\n",
              "      <td>NaN</td>\n",
              "    </tr>\n",
              "    <tr>\n",
              "      <th>3</th>\n",
              "      <td>2020-01-25</td>\n",
              "      <td>IL</td>\n",
              "      <td>1.0</td>\n",
              "      <td>0.0</td>\n",
              "      <td>NaN</td>\n",
              "      <td>NaN</td>\n",
              "    </tr>\n",
              "    <tr>\n",
              "      <th>4</th>\n",
              "      <td>2020-01-25</td>\n",
              "      <td>WA</td>\n",
              "      <td>1.0</td>\n",
              "      <td>0.0</td>\n",
              "      <td>NaN</td>\n",
              "      <td>NaN</td>\n",
              "    </tr>\n",
              "    <tr>\n",
              "      <th>...</th>\n",
              "      <td>...</td>\n",
              "      <td>...</td>\n",
              "      <td>...</td>\n",
              "      <td>...</td>\n",
              "      <td>...</td>\n",
              "      <td>...</td>\n",
              "    </tr>\n",
              "    <tr>\n",
              "      <th>23639</th>\n",
              "      <td>2021-05-16</td>\n",
              "      <td>RI</td>\n",
              "      <td>150385.0</td>\n",
              "      <td>2700.0</td>\n",
              "      <td>8878.731293</td>\n",
              "      <td>1.533128</td>\n",
              "    </tr>\n",
              "    <tr>\n",
              "      <th>23640</th>\n",
              "      <td>2021-05-16</td>\n",
              "      <td>SC</td>\n",
              "      <td>588110.0</td>\n",
              "      <td>9638.0</td>\n",
              "      <td>11003.661846</td>\n",
              "      <td>2.025390</td>\n",
              "    </tr>\n",
              "    <tr>\n",
              "      <th>23641</th>\n",
              "      <td>2021-05-16</td>\n",
              "      <td>SD</td>\n",
              "      <td>123644.0</td>\n",
              "      <td>1991.0</td>\n",
              "      <td>13181.011650</td>\n",
              "      <td>2.179649</td>\n",
              "    </tr>\n",
              "    <tr>\n",
              "      <th>23642</th>\n",
              "      <td>2021-05-16</td>\n",
              "      <td>TN</td>\n",
              "      <td>857055.0</td>\n",
              "      <td>12312.0</td>\n",
              "      <td>12520.886518</td>\n",
              "      <td>1.743299</td>\n",
              "    </tr>\n",
              "    <tr>\n",
              "      <th>23643</th>\n",
              "      <td>2021-05-16</td>\n",
              "      <td>TX</td>\n",
              "      <td>2928389.0</td>\n",
              "      <td>50940.0</td>\n",
              "      <td>10295.362353</td>\n",
              "      <td>2.676496</td>\n",
              "    </tr>\n",
              "  </tbody>\n",
              "</table>\n",
              "<p>23644 rows × 6 columns</p>\n",
              "</div>"
            ],
            "text/plain": [
              "       LastUpdate State  Confirmed   Deaths  IncidenceRate  CaseFatalityRatio\n",
              "0      2020-01-22    WA        1.0      0.0            NaN                NaN\n",
              "1      2020-01-23    WA        1.0      0.0            NaN                NaN\n",
              "2      2020-01-24    WA        1.0      0.0            NaN                NaN\n",
              "3      2020-01-25    IL        1.0      0.0            NaN                NaN\n",
              "4      2020-01-25    WA        1.0      0.0            NaN                NaN\n",
              "...           ...   ...        ...      ...            ...                ...\n",
              "23639  2021-05-16    RI   150385.0   2700.0    8878.731293           1.533128\n",
              "23640  2021-05-16    SC   588110.0   9638.0   11003.661846           2.025390\n",
              "23641  2021-05-16    SD   123644.0   1991.0   13181.011650           2.179649\n",
              "23642  2021-05-16    TN   857055.0  12312.0   12520.886518           1.743299\n",
              "23643  2021-05-16    TX  2928389.0  50940.0   10295.362353           2.676496\n",
              "\n",
              "[23644 rows x 6 columns]"
            ]
          },
          "metadata": {
            "tags": []
          },
          "execution_count": 20
        }
      ]
    },
    {
      "cell_type": "markdown",
      "metadata": {
        "id": "V0RywUdzI8PM"
      },
      "source": [
        "### Total cases per State"
      ]
    },
    {
      "cell_type": "code",
      "metadata": {
        "colab": {
          "base_uri": "https://localhost:8080/",
          "height": 408
        },
        "id": "fobpR-LRIs1e",
        "outputId": "d83f8cb0-513e-4342-94a2-64752cfb92ad"
      },
      "source": [
        "df_total = pd.DataFrame()\n",
        "\n",
        "df_total = df.groupby('State', as_index=False).agg(\n",
        "#df_total = df.groupby(['State', 'StateName'], as_index=False).agg(\n",
        "    {\n",
        "         'Confirmed': 'max',\n",
        "         'Deaths': 'max',\n",
        "         'IncidenceRate': 'mean',\n",
        "         'CaseFatalityRatio': 'mean'\n",
        "    }\n",
        ")\n",
        "\n",
        "df_total.info()\n",
        "df_total.head()"
      ],
      "execution_count": null,
      "outputs": [
        {
          "output_type": "stream",
          "text": [
            "<class 'pandas.core.frame.DataFrame'>\n",
            "Int64Index: 56 entries, 0 to 55\n",
            "Data columns (total 5 columns):\n",
            " #   Column             Non-Null Count  Dtype  \n",
            "---  ------             --------------  -----  \n",
            " 0   State              56 non-null     object \n",
            " 1   Confirmed          56 non-null     float64\n",
            " 2   Deaths             56 non-null     float64\n",
            " 3   IncidenceRate      55 non-null     float64\n",
            " 4   CaseFatalityRatio  55 non-null     float64\n",
            "dtypes: float64(4), object(1)\n",
            "memory usage: 2.6+ KB\n"
          ],
          "name": "stdout"
        },
        {
          "output_type": "execute_result",
          "data": {
            "text/html": [
              "<div>\n",
              "<style scoped>\n",
              "    .dataframe tbody tr th:only-of-type {\n",
              "        vertical-align: middle;\n",
              "    }\n",
              "\n",
              "    .dataframe tbody tr th {\n",
              "        vertical-align: top;\n",
              "    }\n",
              "\n",
              "    .dataframe thead th {\n",
              "        text-align: right;\n",
              "    }\n",
              "</style>\n",
              "<table border=\"1\" class=\"dataframe\">\n",
              "  <thead>\n",
              "    <tr style=\"text-align: right;\">\n",
              "      <th></th>\n",
              "      <th>State</th>\n",
              "      <th>Confirmed</th>\n",
              "      <th>Deaths</th>\n",
              "      <th>IncidenceRate</th>\n",
              "      <th>CaseFatalityRatio</th>\n",
              "    </tr>\n",
              "  </thead>\n",
              "  <tbody>\n",
              "    <tr>\n",
              "      <th>0</th>\n",
              "      <td>AK</td>\n",
              "      <td>30555.0</td>\n",
              "      <td>176.0</td>\n",
              "      <td>3026.029499</td>\n",
              "      <td>0.606605</td>\n",
              "    </tr>\n",
              "    <tr>\n",
              "      <th>1</th>\n",
              "      <td>AL</td>\n",
              "      <td>79827.0</td>\n",
              "      <td>1529.0</td>\n",
              "      <td>5642.304949</td>\n",
              "      <td>2.134702</td>\n",
              "    </tr>\n",
              "    <tr>\n",
              "      <th>2</th>\n",
              "      <td>AR</td>\n",
              "      <td>39378.0</td>\n",
              "      <td>660.0</td>\n",
              "      <td>5706.386278</td>\n",
              "      <td>1.813630</td>\n",
              "    </tr>\n",
              "    <tr>\n",
              "      <th>3</th>\n",
              "      <td>AS</td>\n",
              "      <td>0.0</td>\n",
              "      <td>0.0</td>\n",
              "      <td>NaN</td>\n",
              "      <td>NaN</td>\n",
              "    </tr>\n",
              "    <tr>\n",
              "      <th>4</th>\n",
              "      <td>AZ</td>\n",
              "      <td>544255.0</td>\n",
              "      <td>9950.0</td>\n",
              "      <td>5707.949725</td>\n",
              "      <td>2.860034</td>\n",
              "    </tr>\n",
              "  </tbody>\n",
              "</table>\n",
              "</div>"
            ],
            "text/plain": [
              "  State  Confirmed  Deaths  IncidenceRate  CaseFatalityRatio\n",
              "0    AK    30555.0   176.0    3026.029499           0.606605\n",
              "1    AL    79827.0  1529.0    5642.304949           2.134702\n",
              "2    AR    39378.0   660.0    5706.386278           1.813630\n",
              "3    AS        0.0     0.0            NaN                NaN\n",
              "4    AZ   544255.0  9950.0    5707.949725           2.860034"
            ]
          },
          "metadata": {
            "tags": []
          },
          "execution_count": 21
        }
      ]
    },
    {
      "cell_type": "markdown",
      "metadata": {
        "id": "Zay1deQNB4tx"
      },
      "source": [
        "## Load"
      ]
    },
    {
      "cell_type": "code",
      "metadata": {
        "id": "xwwHe0SNjfgf"
      },
      "source": [
        "# Lo guardo en mi Drive, no puedo guardarlo en el shared drive porque Fer es la owner\n",
        "# df_us.to_csv('/content/drive/My Drive/010 - Séptimo semestre/Business Intelligence/CovidCases.csv', index = False)"
      ],
      "execution_count": null,
      "outputs": []
    },
    {
      "cell_type": "code",
      "metadata": {
        "colab": {
          "base_uri": "https://localhost:8080/"
        },
        "id": "1ARVyj949Qfa",
        "outputId": "72da4842-8dc5-4d88-a258-d508f20e734c"
      },
      "source": [
        "!ls \"/content/drive/My Drive/Documentos/2021 1/5. BI/Proyecto final/datasources\""
      ],
      "execution_count": null,
      "outputs": [
        {
          "output_type": "stream",
          "text": [
            " CovidCases.csv   CovidTimeline.csv  'Libros de trabajo'   ZCTAs.csv   ZIPs.csv\n"
          ],
          "name": "stdout"
        }
      ]
    },
    {
      "cell_type": "code",
      "metadata": {
        "id": "JM5g-pfYDCcf"
      },
      "source": [
        "df_total.to_csv('/content/drive/My Drive/Documentos/2021 1/5. BI/Proyecto final/datasources/CovidCases.csv', index = False)\n",
        "df_timeline.to_csv('/content/drive/My Drive/Documentos/2021 1/5. BI/Proyecto final/datasources/CovidTimeline.csv', index = False)"
      ],
      "execution_count": null,
      "outputs": []
    }
  ]
}