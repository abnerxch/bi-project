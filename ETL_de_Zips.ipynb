{
  "nbformat": 4,
  "nbformat_minor": 0,
  "metadata": {
    "colab": {
      "name": "ETL de Zips.ipynb",
      "provenance": [],
      "collapsed_sections": [
        "nc4LVk_eaCCp",
        "zGXncqrVXpnf"
      ],
      "include_colab_link": true
    },
    "kernelspec": {
      "display_name": "Python 3",
      "name": "python3"
    },
    "language_info": {
      "name": "python"
    }
  },
  "cells": [
    {
      "cell_type": "markdown",
      "metadata": {
        "id": "view-in-github",
        "colab_type": "text"
      },
      "source": [
        "<a href=\"https://colab.research.google.com/github/abnerxch/bi-project/blob/main/ETL_de_Zips.ipynb\" target=\"_parent\"><img src=\"https://colab.research.google.com/assets/colab-badge.svg\" alt=\"Open In Colab\"/></a>"
      ]
    },
    {
      "cell_type": "markdown",
      "metadata": {
        "id": "XI6flz59Zv1G"
      },
      "source": [
        "Adriana Mundo, Ábner Xocop y Fernanda González\n",
        "# Epidemiología social del SARS-CoV-2: ETL de Zips"
      ]
    },
    {
      "cell_type": "markdown",
      "metadata": {
        "id": "qWXI8T63KXPW"
      },
      "source": [
        "## Prep env"
      ]
    },
    {
      "cell_type": "code",
      "metadata": {
        "colab": {
          "base_uri": "https://localhost:8080/"
        },
        "id": "ZaAJZT7g7X4h",
        "outputId": "2aa4a94d-a0a1-4764-cf0f-88e14d282b5f"
      },
      "source": [
        "!pip install pandas"
      ],
      "execution_count": null,
      "outputs": [
        {
          "output_type": "stream",
          "text": [
            "Requirement already satisfied: pandas in /usr/local/lib/python3.7/dist-packages (1.1.5)\n",
            "Requirement already satisfied: pytz>=2017.2 in /usr/local/lib/python3.7/dist-packages (from pandas) (2018.9)\n",
            "Requirement already satisfied: numpy>=1.15.4 in /usr/local/lib/python3.7/dist-packages (from pandas) (1.19.5)\n",
            "Requirement already satisfied: python-dateutil>=2.7.3 in /usr/local/lib/python3.7/dist-packages (from pandas) (2.8.1)\n",
            "Requirement already satisfied: six>=1.5 in /usr/local/lib/python3.7/dist-packages (from python-dateutil>=2.7.3->pandas) (1.15.0)\n"
          ],
          "name": "stdout"
        }
      ]
    },
    {
      "cell_type": "code",
      "metadata": {
        "colab": {
          "base_uri": "https://localhost:8080/"
        },
        "id": "3SvcXYy3_jZ6",
        "outputId": "1e58743e-def3-4c68-b789-92f6aef03226"
      },
      "source": [
        "import pandas as pd\n",
        "import io\n",
        "import requests\n",
        "import numpy as np\n",
        "from google.colab import drive\n",
        "drive.mount('/content/drive')"
      ],
      "execution_count": null,
      "outputs": [
        {
          "output_type": "stream",
          "text": [
            "Mounted at /content/drive\n"
          ],
          "name": "stdout"
        }
      ]
    },
    {
      "cell_type": "markdown",
      "metadata": {
        "id": "nc4LVk_eaCCp"
      },
      "source": [
        "## Extract"
      ]
    },
    {
      "cell_type": "code",
      "metadata": {
        "colab": {
          "base_uri": "https://localhost:8080/",
          "height": 374
        },
        "id": "b3Iz3Ss6v11k",
        "outputId": "8e33c22c-e1b8-4645-d2b1-ff17f06311f8"
      },
      "source": [
        "ZCTA_County_State = pd.read_csv('https://gist.githubusercontent.com/armi3/b8d197a5470e3165a968c547da9e9bd5/raw/1ef00d1476f0dde5217b6903e455881a9a5f5f57/ZCTA_County_State.csv')\n",
        "ZCTA_County_State.info()\n",
        "ZCTA_County_State.head()"
      ],
      "execution_count": null,
      "outputs": [
        {
          "output_type": "stream",
          "text": [
            "<class 'pandas.core.frame.DataFrame'>\n",
            "RangeIndex: 42564 entries, 0 to 42563\n",
            "Data columns (total 3 columns):\n",
            " #   Column  Non-Null Count  Dtype \n",
            "---  ------  --------------  ----- \n",
            " 0   ZCTA    42564 non-null  int64 \n",
            " 1   County  42564 non-null  object\n",
            " 2   State   42564 non-null  object\n",
            "dtypes: int64(1), object(2)\n",
            "memory usage: 997.7+ KB\n"
          ],
          "name": "stdout"
        },
        {
          "output_type": "execute_result",
          "data": {
            "text/html": [
              "<div>\n",
              "<style scoped>\n",
              "    .dataframe tbody tr th:only-of-type {\n",
              "        vertical-align: middle;\n",
              "    }\n",
              "\n",
              "    .dataframe tbody tr th {\n",
              "        vertical-align: top;\n",
              "    }\n",
              "\n",
              "    .dataframe thead th {\n",
              "        text-align: right;\n",
              "    }\n",
              "</style>\n",
              "<table border=\"1\" class=\"dataframe\">\n",
              "  <thead>\n",
              "    <tr style=\"text-align: right;\">\n",
              "      <th></th>\n",
              "      <th>ZCTA</th>\n",
              "      <th>County</th>\n",
              "      <th>State</th>\n",
              "    </tr>\n",
              "  </thead>\n",
              "  <tbody>\n",
              "    <tr>\n",
              "      <th>0</th>\n",
              "      <td>35004</td>\n",
              "      <td>St. Clair AL</td>\n",
              "      <td>AL</td>\n",
              "    </tr>\n",
              "    <tr>\n",
              "      <th>1</th>\n",
              "      <td>35005</td>\n",
              "      <td>Jefferson AL</td>\n",
              "      <td>AL</td>\n",
              "    </tr>\n",
              "    <tr>\n",
              "      <th>2</th>\n",
              "      <td>35006</td>\n",
              "      <td>Jefferson AL</td>\n",
              "      <td>AL</td>\n",
              "    </tr>\n",
              "    <tr>\n",
              "      <th>3</th>\n",
              "      <td>35006</td>\n",
              "      <td>Tuscaloosa AL</td>\n",
              "      <td>AL</td>\n",
              "    </tr>\n",
              "    <tr>\n",
              "      <th>4</th>\n",
              "      <td>35007</td>\n",
              "      <td>Shelby AL</td>\n",
              "      <td>AL</td>\n",
              "    </tr>\n",
              "  </tbody>\n",
              "</table>\n",
              "</div>"
            ],
            "text/plain": [
              "    ZCTA         County State\n",
              "0  35004   St. Clair AL    AL\n",
              "1  35005   Jefferson AL    AL\n",
              "2  35006   Jefferson AL    AL\n",
              "3  35006  Tuscaloosa AL    AL\n",
              "4  35007      Shelby AL    AL"
            ]
          },
          "metadata": {
            "tags": []
          },
          "execution_count": 4
        }
      ]
    },
    {
      "cell_type": "code",
      "metadata": {
        "colab": {
          "base_uri": "https://localhost:8080/"
        },
        "id": "pROUW6gAorWw",
        "outputId": "76b1436e-d4a4-4eef-acfc-24fb69c60816"
      },
      "source": [
        "len(ZCTA_County_State.State.unique())"
      ],
      "execution_count": null,
      "outputs": [
        {
          "output_type": "execute_result",
          "data": {
            "text/plain": [
              "51"
            ]
          },
          "metadata": {
            "tags": []
          },
          "execution_count": 14
        }
      ]
    },
    {
      "cell_type": "code",
      "metadata": {
        "colab": {
          "base_uri": "https://localhost:8080/",
          "height": 374
        },
        "id": "B6zotAQbuMAY",
        "outputId": "899e65a9-9dbd-4f99-b622-4f88ef041857"
      },
      "source": [
        "zip_to_zcta_crosswalk_2020 = pd.read_csv('https://gist.githubusercontent.com/armi3/b8d197a5470e3165a968c547da9e9bd5/raw/e3aeef10ee5759c740fe5f72900d6d85cc49ecf0/zip_to_zcta_crosswalk_2020.csv')\n",
        "zip_to_zcta_crosswalk_2020.info()\n",
        "zip_to_zcta_crosswalk_2020.head()"
      ],
      "execution_count": null,
      "outputs": [
        {
          "output_type": "stream",
          "text": [
            "<class 'pandas.core.frame.DataFrame'>\n",
            "RangeIndex: 41104 entries, 0 to 41103\n",
            "Data columns (total 3 columns):\n",
            " #   Column  Non-Null Count  Dtype \n",
            "---  ------  --------------  ----- \n",
            " 0   ZIP     41104 non-null  int64 \n",
            " 1   ZCTA    41104 non-null  object\n",
            " 2   STATE   41104 non-null  object\n",
            "dtypes: int64(1), object(2)\n",
            "memory usage: 963.5+ KB\n"
          ],
          "name": "stdout"
        },
        {
          "output_type": "execute_result",
          "data": {
            "text/html": [
              "<div>\n",
              "<style scoped>\n",
              "    .dataframe tbody tr th:only-of-type {\n",
              "        vertical-align: middle;\n",
              "    }\n",
              "\n",
              "    .dataframe tbody tr th {\n",
              "        vertical-align: top;\n",
              "    }\n",
              "\n",
              "    .dataframe thead th {\n",
              "        text-align: right;\n",
              "    }\n",
              "</style>\n",
              "<table border=\"1\" class=\"dataframe\">\n",
              "  <thead>\n",
              "    <tr style=\"text-align: right;\">\n",
              "      <th></th>\n",
              "      <th>ZIP</th>\n",
              "      <th>ZCTA</th>\n",
              "      <th>STATE</th>\n",
              "    </tr>\n",
              "  </thead>\n",
              "  <tbody>\n",
              "    <tr>\n",
              "      <th>0</th>\n",
              "      <td>501</td>\n",
              "      <td>11742</td>\n",
              "      <td>NY</td>\n",
              "    </tr>\n",
              "    <tr>\n",
              "      <th>1</th>\n",
              "      <td>544</td>\n",
              "      <td>11742</td>\n",
              "      <td>NY</td>\n",
              "    </tr>\n",
              "    <tr>\n",
              "      <th>2</th>\n",
              "      <td>601</td>\n",
              "      <td>00601</td>\n",
              "      <td>PR</td>\n",
              "    </tr>\n",
              "    <tr>\n",
              "      <th>3</th>\n",
              "      <td>602</td>\n",
              "      <td>00602</td>\n",
              "      <td>PR</td>\n",
              "    </tr>\n",
              "    <tr>\n",
              "      <th>4</th>\n",
              "      <td>603</td>\n",
              "      <td>00603</td>\n",
              "      <td>PR</td>\n",
              "    </tr>\n",
              "  </tbody>\n",
              "</table>\n",
              "</div>"
            ],
            "text/plain": [
              "   ZIP   ZCTA STATE\n",
              "0  501  11742    NY\n",
              "1  544  11742    NY\n",
              "2  601  00601    PR\n",
              "3  602  00602    PR\n",
              "4  603  00603    PR"
            ]
          },
          "metadata": {
            "tags": []
          },
          "execution_count": 18
        }
      ]
    },
    {
      "cell_type": "code",
      "metadata": {
        "colab": {
          "base_uri": "https://localhost:8080/"
        },
        "id": "AOiIac8Zo-w7",
        "outputId": "5526e0d3-ad2c-478a-df9c-a40f5fedba4d"
      },
      "source": [
        "len(zip_to_zcta_crosswalk_2020.STATE.unique())\n",
        "zip_to_zcta_crosswalk_2020.STATE.unique()"
      ],
      "execution_count": null,
      "outputs": [
        {
          "output_type": "execute_result",
          "data": {
            "text/plain": [
              "array(['NY', 'PR', 'VI', 'MA', 'RI', 'NH', 'ME', 'VT', 'CT', 'NJ', 'PA',\n",
              "       'DE', 'DC', 'VA', 'MD', 'WV', 'NC', 'SC', 'GA', 'FL', 'AL', 'TN',\n",
              "       'MS', 'KY', 'OH', 'IN', 'MI', 'IA', 'WI', 'MN', 'SD', 'ND', 'MT',\n",
              "       'IL', 'MO', 'KS', 'NE', 'LA', 'AR', 'OK', 'TX', 'CO', 'WY', 'ID',\n",
              "       'UT', 'AZ', 'NM', 'NV', 'CA', 'HI', 'AS', 'GU', 'PW', 'FM', 'MP',\n",
              "       'MH', 'OR', 'WA', 'AK'], dtype=object)"
            ]
          },
          "metadata": {
            "tags": []
          },
          "execution_count": 20
        }
      ]
    },
    {
      "cell_type": "markdown",
      "metadata": {
        "id": "zGXncqrVXpnf"
      },
      "source": [
        "## Transform"
      ]
    },
    {
      "cell_type": "code",
      "metadata": {
        "colab": {
          "base_uri": "https://localhost:8080/",
          "height": 357
        },
        "id": "QxkDy7c4GGCf",
        "outputId": "8fb00ffb-a873-4b9a-c7ad-945854961d04"
      },
      "source": [
        "zip_to_zcta_crosswalk_2020['ZCTA'] = pd.to_numeric(zip_to_zcta_crosswalk_2020['ZCTA'].replace('No ZCTA', np.nan))\n",
        "zip_to_zcta_crosswalk_2020 = zip_to_zcta_crosswalk_2020[['ZIP','ZCTA']]\n",
        "zip_to_zcta_crosswalk_2020.info()\n",
        "zip_to_zcta_crosswalk_2020.head()"
      ],
      "execution_count": null,
      "outputs": [
        {
          "output_type": "stream",
          "text": [
            "<class 'pandas.core.frame.DataFrame'>\n",
            "RangeIndex: 41104 entries, 0 to 41103\n",
            "Data columns (total 2 columns):\n",
            " #   Column  Non-Null Count  Dtype  \n",
            "---  ------  --------------  -----  \n",
            " 0   ZIP     41104 non-null  int64  \n",
            " 1   ZCTA    41096 non-null  float64\n",
            "dtypes: float64(1), int64(1)\n",
            "memory usage: 642.4 KB\n"
          ],
          "name": "stdout"
        },
        {
          "output_type": "execute_result",
          "data": {
            "text/html": [
              "<div>\n",
              "<style scoped>\n",
              "    .dataframe tbody tr th:only-of-type {\n",
              "        vertical-align: middle;\n",
              "    }\n",
              "\n",
              "    .dataframe tbody tr th {\n",
              "        vertical-align: top;\n",
              "    }\n",
              "\n",
              "    .dataframe thead th {\n",
              "        text-align: right;\n",
              "    }\n",
              "</style>\n",
              "<table border=\"1\" class=\"dataframe\">\n",
              "  <thead>\n",
              "    <tr style=\"text-align: right;\">\n",
              "      <th></th>\n",
              "      <th>ZIP</th>\n",
              "      <th>ZCTA</th>\n",
              "    </tr>\n",
              "  </thead>\n",
              "  <tbody>\n",
              "    <tr>\n",
              "      <th>0</th>\n",
              "      <td>501</td>\n",
              "      <td>11742.0</td>\n",
              "    </tr>\n",
              "    <tr>\n",
              "      <th>1</th>\n",
              "      <td>544</td>\n",
              "      <td>11742.0</td>\n",
              "    </tr>\n",
              "    <tr>\n",
              "      <th>2</th>\n",
              "      <td>601</td>\n",
              "      <td>601.0</td>\n",
              "    </tr>\n",
              "    <tr>\n",
              "      <th>3</th>\n",
              "      <td>602</td>\n",
              "      <td>602.0</td>\n",
              "    </tr>\n",
              "    <tr>\n",
              "      <th>4</th>\n",
              "      <td>603</td>\n",
              "      <td>603.0</td>\n",
              "    </tr>\n",
              "  </tbody>\n",
              "</table>\n",
              "</div>"
            ],
            "text/plain": [
              "   ZIP     ZCTA\n",
              "0  501  11742.0\n",
              "1  544  11742.0\n",
              "2  601    601.0\n",
              "3  602    602.0\n",
              "4  603    603.0"
            ]
          },
          "metadata": {
            "tags": []
          },
          "execution_count": 27
        }
      ]
    },
    {
      "cell_type": "code",
      "metadata": {
        "colab": {
          "base_uri": "https://localhost:8080/",
          "height": 204
        },
        "id": "8tLSr4Jqnbvd",
        "outputId": "49e88a88-1820-458f-d2fc-6e1e883b4f6e"
      },
      "source": [
        "zip_to_zcta = pd.merge(zip_to_zcta_crosswalk_2020, ZCTA_County_State, on=\"ZCTA\")\n",
        "us_state_abbrev = {\n",
        "    \"AL\": \"Alabama\",\n",
        "    \"AK\": \"Alaska\",\n",
        "    \"AS\": \"American Samoa\",\n",
        "    \"AZ\": \"Arizona\",\n",
        "    \"AR\": \"Arkansas\",\n",
        "    \"CA\": \"California\",\n",
        "    \"CO\": \"Colorado\",\n",
        "    \"CT\": \"Connecticut\",\n",
        "    \"DE\": \"Delaware\",\n",
        "    \"DC\": \"District Of Columbia\",\n",
        "    \"FM\": \"Federated States Of Micronesia\",\n",
        "    \"FL\": \"Florida\",\n",
        "    \"GA\": \"Georgia\",\n",
        "    \"GU\": \"Guam\",\n",
        "    \"HI\": \"Hawaii\",\n",
        "    \"ID\": \"Idaho\",\n",
        "    \"IL\": \"Illinois\",\n",
        "    \"IN\": \"Indiana\",\n",
        "    \"IA\": \"Iowa\",\n",
        "    \"KS\": \"Kansas\",\n",
        "    \"KY\": \"Kentucky\",\n",
        "    \"LA\": \"Louisiana\",\n",
        "    \"ME\": \"Maine\",\n",
        "    \"MH\": \"Marshall Islands\",\n",
        "    \"MD\": \"Maryland\",\n",
        "    \"MA\": \"Massachusetts\",\n",
        "    \"MI\": \"Michigan\",\n",
        "    \"MN\": \"Minnesota\",\n",
        "    \"MS\": \"Mississippi\",\n",
        "    \"MO\": \"Missouri\",\n",
        "    \"MT\": \"Montana\",\n",
        "    \"NE\": \"Nebraska\",\n",
        "    \"NV\": \"Nevada\",\n",
        "    \"NH\": \"New Hampshire\",\n",
        "    \"NJ\": \"New Jersey\",\n",
        "    \"NM\": \"New Mexico\",\n",
        "    \"NY\": \"New York\",\n",
        "    \"NC\": \"North Carolina\",\n",
        "    \"ND\": \"North Dakota\",\n",
        "    \"MP\": \"Northern Mariana Islands\",\n",
        "    \"OH\": \"Ohio\",\n",
        "    \"OK\": \"Oklahoma\",\n",
        "    \"OR\": \"Oregon\",\n",
        "    \"PW\": \"Palau\",\n",
        "    \"PA\": \"Pennsylvania\",\n",
        "    \"PR\": \"Puerto Rico\",\n",
        "    \"RI\": \"Rhode Island\",\n",
        "    \"SC\": \"South Carolina\",\n",
        "    \"SD\": \"South Dakota\",\n",
        "    \"TN\": \"Tennessee\",\n",
        "    \"TX\": \"Texas\",\n",
        "    \"UT\": \"Utah\",\n",
        "    \"VT\": \"Vermont\",\n",
        "    \"VI\": \"Virgin Islands\",\n",
        "    \"VA\": \"Virginia\",\n",
        "    \"WA\": \"Washington\",\n",
        "    \"WV\": \"West Virginia\",\n",
        "    \"WI\": \"Wisconsin\",\n",
        "    \"WY\": \"Wyoming\"\n",
        "}\n",
        "\n",
        "zip_to_zcta['StateName'] = zip_to_zcta['State'].map(us_state_abbrev)\n",
        "zip_to_zcta.head()"
      ],
      "execution_count": null,
      "outputs": [
        {
          "output_type": "execute_result",
          "data": {
            "text/html": [
              "<div>\n",
              "<style scoped>\n",
              "    .dataframe tbody tr th:only-of-type {\n",
              "        vertical-align: middle;\n",
              "    }\n",
              "\n",
              "    .dataframe tbody tr th {\n",
              "        vertical-align: top;\n",
              "    }\n",
              "\n",
              "    .dataframe thead th {\n",
              "        text-align: right;\n",
              "    }\n",
              "</style>\n",
              "<table border=\"1\" class=\"dataframe\">\n",
              "  <thead>\n",
              "    <tr style=\"text-align: right;\">\n",
              "      <th></th>\n",
              "      <th>ZIP</th>\n",
              "      <th>ZCTA</th>\n",
              "      <th>County</th>\n",
              "      <th>State</th>\n",
              "      <th>StateName</th>\n",
              "    </tr>\n",
              "  </thead>\n",
              "  <tbody>\n",
              "    <tr>\n",
              "      <th>0</th>\n",
              "      <td>501</td>\n",
              "      <td>11742.0</td>\n",
              "      <td>Suffolk NY</td>\n",
              "      <td>NY</td>\n",
              "      <td>New York</td>\n",
              "    </tr>\n",
              "    <tr>\n",
              "      <th>1</th>\n",
              "      <td>544</td>\n",
              "      <td>11742.0</td>\n",
              "      <td>Suffolk NY</td>\n",
              "      <td>NY</td>\n",
              "      <td>New York</td>\n",
              "    </tr>\n",
              "    <tr>\n",
              "      <th>2</th>\n",
              "      <td>11742</td>\n",
              "      <td>11742.0</td>\n",
              "      <td>Suffolk NY</td>\n",
              "      <td>NY</td>\n",
              "      <td>New York</td>\n",
              "    </tr>\n",
              "    <tr>\n",
              "      <th>3</th>\n",
              "      <td>1001</td>\n",
              "      <td>1001.0</td>\n",
              "      <td>Hampden MA</td>\n",
              "      <td>MA</td>\n",
              "      <td>Massachusetts</td>\n",
              "    </tr>\n",
              "    <tr>\n",
              "      <th>4</th>\n",
              "      <td>1002</td>\n",
              "      <td>1002.0</td>\n",
              "      <td>Hampshire MA</td>\n",
              "      <td>MA</td>\n",
              "      <td>Massachusetts</td>\n",
              "    </tr>\n",
              "  </tbody>\n",
              "</table>\n",
              "</div>"
            ],
            "text/plain": [
              "     ZIP     ZCTA        County State      StateName\n",
              "0    501  11742.0    Suffolk NY    NY       New York\n",
              "1    544  11742.0    Suffolk NY    NY       New York\n",
              "2  11742  11742.0    Suffolk NY    NY       New York\n",
              "3   1001   1001.0    Hampden MA    MA  Massachusetts\n",
              "4   1002   1002.0  Hampshire MA    MA  Massachusetts"
            ]
          },
          "metadata": {
            "tags": []
          },
          "execution_count": 28
        }
      ]
    },
    {
      "cell_type": "code",
      "metadata": {
        "colab": {
          "base_uri": "https://localhost:8080/"
        },
        "id": "YY8hRaUboOFJ",
        "outputId": "e1c37bfc-7c60-4144-e134-89e44fe4da86"
      },
      "source": [
        "len(zip_to_zcta.State.unique())"
      ],
      "execution_count": null,
      "outputs": [
        {
          "output_type": "execute_result",
          "data": {
            "text/plain": [
              "51"
            ]
          },
          "metadata": {
            "tags": []
          },
          "execution_count": 29
        }
      ]
    },
    {
      "cell_type": "markdown",
      "metadata": {
        "id": "02JIvOz82pUO"
      },
      "source": [
        "## Load"
      ]
    },
    {
      "cell_type": "code",
      "metadata": {
        "id": "B1iXOgSk2qgv"
      },
      "source": [
        "#result.to_csv('/content/drive/My Drive/datasources/ZIPs.csv', index = False)\n",
        "zip_to_zcta.to_csv('/content/drive/My Drive/Documentos/2021 1/5. BI/Proyecto final/datasources/ZIPs.csv', index = False)"
      ],
      "execution_count": null,
      "outputs": []
    }
  ]
}